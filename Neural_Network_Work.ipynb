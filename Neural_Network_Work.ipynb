{
  "nbformat": 4,
  "nbformat_minor": 0,
  "metadata": {
    "colab": {
      "name": "Neural Network Work",
      "provenance": [],
      "collapsed_sections": [],
      "authorship_tag": "ABX9TyProLL/Q6RR5TWmUHwPRBU7",
      "include_colab_link": true
    },
    "kernelspec": {
      "name": "python3",
      "display_name": "Python 3"
    }
  },
  "cells": [
    {
      "cell_type": "markdown",
      "metadata": {
        "id": "view-in-github",
        "colab_type": "text"
      },
      "source": [
        "<a href=\"https://colab.research.google.com/github/sethporter903/Neural-Network/blob/main/Neural_Network_Work.ipynb\" target=\"_parent\"><img src=\"https://colab.research.google.com/assets/colab-badge.svg\" alt=\"Open In Colab\"/></a>"
      ]
    },
    {
      "cell_type": "markdown",
      "metadata": {
        "id": "5qUWoh4OzQsy"
      },
      "source": [
        "#Problem  1:\n",
        " - 2 Variable Regression using Keras/TensorFlow\n",
        " - Using SKlearn model by using the inverse of a matrix method. It is not visible to us, but the matrix inverse method going on in the backend of SKlearn"
      ]
    },
    {
      "cell_type": "code",
      "metadata": {
        "id": "nskXHRqKzhnT"
      },
      "source": [
        "#import dependencies\n",
        "import numpy as np\n",
        "import matplotlib.pyplot as plt\n",
        "# Create regression model\n",
        "from sklearn import linear_model \n",
        "from sklearn.metrics import mean_squared_error, r2_score "
      ],
      "execution_count": null,
      "outputs": []
    },
    {
      "cell_type": "code",
      "metadata": {
        "colab": {
          "base_uri": "https://localhost:8080/",
          "height": 282
        },
        "id": "b5RsiDc-zkhm",
        "outputId": "ff5ac04f-7a0f-4b00-867b-509f0effc2c2"
      },
      "source": [
        "n_samples = 30\n",
        "train_x = np.linspace(0,20,n_samples)\n",
        "train_y = 3.7 * train_x + 14 + 4 * np.random.randn(n_samples)\n",
        "plt.plot(train_x, train_y,'o')"
      ],
      "execution_count": null,
      "outputs": [
        {
          "output_type": "execute_result",
          "data": {
            "text/plain": [
              "[<matplotlib.lines.Line2D at 0x7f879d808940>]"
            ]
          },
          "metadata": {
            "tags": []
          },
          "execution_count": 2
        },
        {
          "output_type": "display_data",
          "data": {
            "image/png": "[encoded data removed]",
            "text/plain": [
              "<Figure size 432x288 with 1 Axes>"
            ]
          },
          "metadata": {
            "tags": [],
            "needs_background": "light"
          }
        }
      ]
    },
    {
      "cell_type": "code",
      "metadata": {
        "id": "Itdn8oj4zuX5"
      },
      "source": [
        "X_sklearn = train_x.reshape(-1,1)\n",
        "Y_sklearn = train_y.reshape(-1,1)\n"
      ],
      "execution_count": null,
      "outputs": []
    },
    {
      "cell_type": "code",
      "metadata": {
        "id": "zfk9Umn91Dnz"
      },
      "source": [
        "model_object = linear_model.LinearRegression()"
      ],
      "execution_count": null,
      "outputs": []
    },
    {
      "cell_type": "code",
      "metadata": {
        "colab": {
          "base_uri": "https://localhost:8080/"
        },
        "id": "SEpm5-zV1rm-",
        "outputId": "0f8241db-2fb4-4879-fb67-7e7bf931c65b"
      },
      "source": [
        "model_object.fit(X_sklearn, Y_sklearn)"
      ],
      "execution_count": null,
      "outputs": [
        {
          "output_type": "execute_result",
          "data": {
            "text/plain": [
              "LinearRegression(copy_X=True, fit_intercept=True, n_jobs=None, normalize=False)"
            ]
          },
          "metadata": {
            "tags": []
          },
          "execution_count": 5
        }
      ]
    },
    {
      "cell_type": "code",
      "metadata": {
        "colab": {
          "base_uri": "https://localhost:8080/"
        },
        "id": "FqgLdCWp2Kem",
        "outputId": "489c92ec-4f3a-4290-eede-4b8836c3b7e4"
      },
      "source": [
        "# The coefficients\n",
        "print('Coefficients: \\n', model_object.coef_)"
      ],
      "execution_count": null,
      "outputs": [
        {
          "output_type": "stream",
          "text": [
            "Coefficients: \n",
            " [[3.83473767]]\n"
          ],
          "name": "stdout"
        }
      ]
    },
    {
      "cell_type": "code",
      "metadata": {
        "colab": {
          "base_uri": "https://localhost:8080/"
        },
        "id": "Q57QIsRH2auI",
        "outputId": "fb80c2ac-1122-4966-b4bc-36fb9ac4c306"
      },
      "source": [
        "# The Y-intercept\n",
        "print('Y_intercept: \\n', model_object.intercept_)"
      ],
      "execution_count": null,
      "outputs": [
        {
          "output_type": "stream",
          "text": [
            "Y_intercept: \n",
            " [12.56103713]\n"
          ],
          "name": "stdout"
        }
      ]
    },
    {
      "cell_type": "markdown",
      "metadata": {
        "id": "Xd42t1jQ24iH"
      },
      "source": [
        "##Building Keras Model"
      ]
    },
    {
      "cell_type": "code",
      "metadata": {
        "id": "znIMLhGy2qhA"
      },
      "source": [
        "import keras as ks \n",
        "from keras.models import Sequential \n",
        "from keras.layers import Dense, Activation"
      ],
      "execution_count": null,
      "outputs": []
    },
    {
      "cell_type": "code",
      "metadata": {
        "id": "TptQLDNS2-iN"
      },
      "source": [
        "# build the model\n",
        "# The Sequntial model is used for cases where each LAYER has one input and # one output.  \n",
        "# It is used for most standard NNs, where there is NO branching\n",
        "model = Sequential()"
      ],
      "execution_count": null,
      "outputs": []
    },
    {
      "cell_type": "markdown",
      "metadata": {
        "id": "KsQ1rVQGEbLN"
      },
      "source": [
        ""
      ]
    },
    {
      "cell_type": "markdown",
      "metadata": {
        "id": "HMfnUV7TFrnW"
      },
      "source": [
        "Below represents the activation function. \n",
        "- The activation function tells you how to handle the forward propagation. (The forwrad progress of data)\n",
        "- Dense 1 means that it's a one layered Neural network. (means there are 0 hidden layers \n",
        "Dense(3 would indicate 2 hidden layers. Dense 1 indicates 0 hidden layers)\n",
        "- activation = 'linear'  is the activation function that makes changes to the forward propagation process if necessary. EX- For a binary classifier of some kind like a logisitical regression model of outputs of 0 or 1 we would use activation = sigmoid(Remember the forward propagation process is only the weighted sum (weights and biases included) of the inputs \n",
        "- input_dim = is the number of input nodes\n",
        "- kernel_initializer = is how to initially guess your weights and biases before you start doing any epochs at all\n"
      ]
    },
    {
      "cell_type": "code",
      "metadata": {
        "id": "-ZvVQEPU3KKR"
      },
      "source": [
        "model.add(Dense(1,activation='linear',kernel_initializer='normal',input_dim=1))"
      ],
      "execution_count": null,
      "outputs": []
    },
    {
      "cell_type": "markdown",
      "metadata": {
        "id": "1P-xkhtxJTgB"
      },
      "source": [
        "- Loss = cost function (A represnentation of erro) \n",
        "  - Residiual sum of squares is another type of cost function\n",
        "- Optimizer = gradient based optimization function is how we get to the final answer from the kernel initializer \n",
        "  - Kernel initializer is the just the initial guess and the optimizer finalizes it by looking at the data given by the input and output data from the kernel initializer\n",
        "-"
      ]
    },
    {
      "cell_type": "code",
      "metadata": {
        "id": "A8EX371NFHmB"
      },
      "source": [
        "#compile model\n",
        "model.compile(loss='mean_squared_error', optimizer= 'adam',metrics=['mse'])"
      ],
      "execution_count": null,
      "outputs": []
    },
    {
      "cell_type": "markdown",
      "metadata": {
        "id": "P2AthM3SK8q1"
      },
      "source": [
        "- 'Param#' is the number of the weights and biased combined (There is usually only 1 bias per node) Weights is the connection between nodes)"
      ]
    },
    {
      "cell_type": "code",
      "metadata": {
        "colab": {
          "base_uri": "https://localhost:8080/"
        },
        "id": "ULj3gCxNFKEQ",
        "outputId": "4d5cbdf9-8b77-404b-b20e-ce89babf56aa"
      },
      "source": [
        "model.summary()"
      ],
      "execution_count": null,
      "outputs": [
        {
          "output_type": "stream",
          "text": [
            "Model: \"sequential\"\n",
            "_________________________________________________________________\n",
            "Layer (type)                 Output Shape              Param #   \n",
            "=================================================================\n",
            "dense (Dense)                (None, 1)                 2         \n",
            "=================================================================\n",
            "Total params: 2\n",
            "Trainable params: 2\n",
            "Non-trainable params: 0\n",
            "_________________________________________________________________\n"
          ],
          "name": "stdout"
        }
      ]
    },
    {
      "cell_type": "code",
      "metadata": {
        "id": "7pybHMzoFm5w"
      },
      "source": [
        "#fit the model\n",
        "x = np.array(train_x)\n",
        "y = np.array(train_y)"
      ],
      "execution_count": null,
      "outputs": []
    },
    {
      "cell_type": "code",
      "metadata": {
        "id": "_3yrebvOMBXq"
      },
      "source": [
        "epochs = 10000\n",
        "hist = model.fit(x, y, epochs = epochs, verbose = 0)"
      ],
      "execution_count": null,
      "outputs": []
    },
    {
      "cell_type": "code",
      "metadata": {
        "colab": {
          "base_uri": "https://localhost:8080/",
          "height": 295
        },
        "id": "J80tXu8YMasf",
        "outputId": "00f36336-8683-4e35-cb71-aef3699649c1"
      },
      "source": [
        "#visualize the loss\n",
        "train_lost = hist.history['loss']\n",
        "xc = range(epochs)\n",
        "plt.plot(xc, train_lost)\n",
        "plt.figure(1,figsize= (7,5))\n",
        "plt.xlabel('num of epochs')\n",
        "plt.ylabel('loss')\n",
        "plt.title('train_loss')\n",
        "plt.grid(True)\n",
        "plt.style.use(['ggplot'])"
      ],
      "execution_count": null,
      "outputs": [
        {
          "output_type": "display_data",
          "data": {
            "image/png": "[encoded data removed]",
            "text/plain": [
              "<Figure size 432x288 with 1 Axes>"
            ]
          },
          "metadata": {
            "tags": [],
            "needs_background": "light"
          }
        }
      ]
    },
    {
      "cell_type": "code",
      "metadata": {
        "colab": {
          "base_uri": "https://localhost:8080/"
        },
        "id": "Cue8pR6xNxYb",
        "outputId": "82d0e9ff-f128-4ac0-d4a2-ad2821ca3541"
      },
      "source": [
        "print(hist)"
      ],
      "execution_count": null,
      "outputs": [
        {
          "output_type": "stream",
          "text": [
            "<tensorflow.python.keras.callbacks.History object at 0x7f8766d63828>\n"
          ],
          "name": "stdout"
        }
      ]
    },
    {
      "cell_type": "code",
      "metadata": {
        "colab": {
          "base_uri": "https://localhost:8080/"
        },
        "id": "O1XgerXtPiOc",
        "outputId": "38930c76-b9ec-4b48-fb6d-7c21daf57986"
      },
      "source": [
        "# Print the weights and biases of all the neurons in the Neural Network\n",
        "# Does not post the values of the output layer\n",
        "#Layer number = 0 is the input layer\n",
        "for layerNum, layer in enumerate(model.layers):\n",
        "  print(\"Layer Number = \",layerNum)\n",
        "  print(\"Weight Values = \",layer.get_weights()[0])\n",
        "  print(\"Bias Values = \",layer.get_weights()[1])                                                                                                                                                                                                                                                                                                "
      ],
      "execution_count": null,
      "outputs": [
        {
          "output_type": "stream",
          "text": [
            "Layer Number =  0\n",
            "Weight Values =  [[4.3116612]]\n",
            "Bias Values =  [6.18437]\n"
          ],
          "name": "stdout"
        }
      ]
    },
    {
      "cell_type": "code",
      "metadata": {
        "colab": {
          "base_uri": "https://localhost:8080/",
          "height": 300
        },
        "id": "fpUyPGKhQtlW",
        "outputId": "2710fdc6-b53b-4337-c464-1fe932af0da5"
      },
      "source": [
        "pred = model.predict(train_x) \n",
        "plt.plot(train_x, pred, train_x, train_y)"
      ],
      "execution_count": null,
      "outputs": [
        {
          "output_type": "execute_result",
          "data": {
            "text/plain": [
              "[<matplotlib.lines.Line2D at 0x7f8764561f98>,\n",
              " <matplotlib.lines.Line2D at 0x7f87645560f0>]"
            ]
          },
          "metadata": {
            "tags": []
          },
          "execution_count": 18
        },
        {
          "output_type": "display_data",
          "data": {
            "image/png": "[encoded data removed]",
            "text/plain": [
              "<Figure size 432x288 with 1 Axes>"
            ]
          },
          "metadata": {
            "tags": []
          }
        }
      ]
    },
    {
      "cell_type": "code",
      "metadata": {
        "colab": {
          "base_uri": "https://localhost:8080/",
          "height": 282
        },
        "id": "b-sqdXG0TJEF",
        "outputId": "8a30cb9c-485a-448e-de14-61726a29be4c"
      },
      "source": [
        "pred = model.predict(train_x)\n",
        "plt.plot(train_x, pred, 'b')\n",
        "plt.scatter(train_x, train_y)\n",
        "plt.legend((\"Model\",\"Raw Data\"))\n"
      ],
      "execution_count": null,
      "outputs": [
        {
          "output_type": "execute_result",
          "data": {
            "text/plain": [
              "<matplotlib.legend.Legend at 0x7f8763ccc2b0>"
            ]
          },
          "metadata": {
            "tags": []
          },
          "execution_count": 19
        },
        {
          "output_type": "display_data",
          "data": {
            "image/png": "[encoded data removed]",
            "text/plain": [
              "<Figure size 432x288 with 1 Axes>"
            ]
          },
          "metadata": {
            "tags": []
          }
        }
      ]
    },
    {
      "cell_type": "code",
      "metadata": {
        "colab": {
          "base_uri": "https://localhost:8080/"
        },
        "id": "YUu0-E--T2o4",
        "outputId": "fb14f36e-429b-429f-d1c1-dd686b2681a2"
      },
      "source": [
        "test_x = [15]\n",
        "val = model.predict(test_x)\n",
        "print(val)"
      ],
      "execution_count": null,
      "outputs": [
        {
          "output_type": "stream",
          "text": [
            "[[70.85929]]\n"
          ],
          "name": "stdout"
        }
      ]
    },
    {
      "cell_type": "markdown",
      "metadata": {
        "id": "JMFJXR_leOj5"
      },
      "source": [
        "#Problem#2: Multivariable Regression using Keras/TensorFlow"
      ]
    },
    {
      "cell_type": "code",
      "metadata": {
        "colab": {
          "resources": {
            "http://localhost:8080/nbextensions/google.colab/files.js": {
              "data": "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",
              "ok": true,
              "headers": [
                [
                  "content-type",
                  "application/javascript"
                ]
              ],
              "status": 200,
              "status_text": "OK"
            }
          },
          "base_uri": "https://localhost:8080/",
          "height": 70
        },
        "id": "oMEO7-LUUSan",
        "outputId": "a6311aa0-6775-4189-9580-2ae47ad80e7a"
      },
      "source": [
        "#import libraries\n",
        "import pandas as pd\n",
        "from sklearn import preprocessing\n",
        "#file handling\n",
        "from google.colab import files\n",
        "import io\n",
        "uploaded = files.upload()\n",
        "kc_house_data = pd.read_csv(io.BytesIO(uploaded['00 kc_house_data.csv'])) "
      ],
      "execution_count": null,
      "outputs": [
        {
          "output_type": "display_data",
          "data": {
            "text/html": [
              "\n",
              "     <input type=\"file\" id=\"files-aa0ef050-7b4a-4a49-828e-4daf70993956\" name=\"files[]\" multiple disabled\n",
              "        style=\"border:none\" />\n",
              "     <output id=\"result-aa0ef050-7b4a-4a49-828e-4daf70993956\">\n",
              "      Upload widget is only available when the cell has been executed in the\n",
              "      current browser session. Please rerun this cell to enable.\n",
              "      </output>\n",
              "      <script src=\"/nbextensions/google.colab/files.js\"></script> "
            ],
            "text/plain": [
              "<IPython.core.display.HTML object>"
            ]
          },
          "metadata": {
            "tags": []
          }
        },
        {
          "output_type": "stream",
          "text": [
            "Saving 00 kc_house_data.csv to 00 kc_house_data (6).csv\n"
          ],
          "name": "stdout"
        }
      ]
    },
    {
      "cell_type": "markdown",
      "metadata": {
        "id": "0XxUHhzQiQdu"
      },
      "source": [
        "Feature scaling method - Rescaling (min-max normalization):\n",
        "$$x' = {x-min(x)\\over max(x)-min(x)} $$ \n",
        "This normalization method scales all values between 0 and 1. You can hard code this in python as:\n",
        "```python\n",
        "featuresMin = features.min(axis=0)\n",
        "featuresMax = features.max(axis=0)\n",
        "featuresScale2 = (features - featuresMin)/(featuresMax - featuresMin) \n",
        " ```  \n",
        "Scikit-Learn's preprocessing library does it the way shown above, but it is easier to use the preprocessing library and minmax_scale method instead of using the equation. "
      ]
    },
    {
      "cell_type": "code",
      "metadata": {
        "id": "z_4-3bxkeih5"
      },
      "source": [
        "featuresScale = preprocessing.minmax_scale(kc_house_data[['bedrooms','sqft_living']])\n",
        "labelScale = preprocessing.minmax_scale(kc_house_data[['price']])"
      ],
      "execution_count": null,
      "outputs": []
    },
    {
      "cell_type": "markdown",
      "metadata": {
        "id": "qCElPqVwm-e_"
      },
      "source": [
        "## Multi Regression Scikit ModeL"
      ]
    },
    {
      "cell_type": "markdown",
      "metadata": {
        "id": "ercM7T7moes3"
      },
      "source": [
        "The equation below is is the multi linear regression equation\n",
        "  - In neural networks the b value is the bias \n",
        "  - The weights are M1,M2 ect.\n",
        "  - X1 = bedrooms\n",
        "  - X2 = squft_living\n",
        "  - Y = price\n",
        "$$Y = m_1X_1 + m_2X_2 + b$$"
      ]
    },
    {
      "cell_type": "code",
      "metadata": {
        "id": "HV68A_AAf0pb",
        "colab": {
          "base_uri": "https://localhost:8080/"
        },
        "outputId": "3d75b310-8dac-4229-d28f-48287f26683e"
      },
      "source": [
        "MR_model_object = linear_model.LinearRegression()\n",
        "MR_model_object.fit(featuresScale,labelScale)\n",
        "print(MR_model_object.intercept_)\n",
        "print(MR_model_object.coef_)"
      ],
      "execution_count": null,
      "outputs": [
        {
          "output_type": "stream",
          "text": [
            "[0.01252649]\n",
            "[[-0.24697745  0.54555018]]\n"
          ],
          "name": "stdout"
        }
      ]
    },
    {
      "cell_type": "markdown",
      "metadata": {
        "id": "N8AGqFcjpbx4"
      },
      "source": [
        "#Multi Regression Keras Model"
      ]
    },
    {
      "cell_type": "code",
      "metadata": {
        "id": "0CCJCrpltN0R"
      },
      "source": [
        "MR_model = Sequential() "
      ],
      "execution_count": null,
      "outputs": []
    },
    {
      "cell_type": "code",
      "metadata": {
        "id": "5-e_wXM9m1Y9"
      },
      "source": [
        "MR_model.add(Dense(1,activation='linear',kernel_initializer='normal',input_dim=2))"
      ],
      "execution_count": null,
      "outputs": []
    },
    {
      "cell_type": "code",
      "metadata": {
        "id": "I51qUlTOqlQG"
      },
      "source": [
        "#compile model\n",
        "MR_model.compile(loss='mean_squared_error', optimizer= 'adam',metrics=['mse'])"
      ],
      "execution_count": null,
      "outputs": []
    },
    {
      "cell_type": "code",
      "metadata": {
        "id": "GwE_yuw3sXYe"
      },
      "source": [
        "#fit the model\n",
        "MR_epochs = 20\n",
        "hist = MR_model.fit(featuresScale, labelScale, epochs = MR_epochs, verbose = 0)\n"
      ],
      "execution_count": null,
      "outputs": []
    },
    {
      "cell_type": "code",
      "metadata": {
        "colab": {
          "base_uri": "https://localhost:8080/",
          "height": 299
        },
        "id": "sEjFDx6MswFl",
        "outputId": "aa342887-8c71-4c30-8c51-534aa50c2da2"
      },
      "source": [
        "#visualize the loss\n",
        "train_lost = hist.history['loss']\n",
        "xc = range(MR_epochs)\n",
        "plt.plot(xc, train_lost)\n",
        "plt.figure(1,figsize= (7,5))\n",
        "plt.xlabel('num of epochs')\n",
        "plt.ylabel('loss')\n",
        "plt.title('train_loss')\n",
        "plt.grid(True)\n",
        "plt.style.use(['ggplot'])"
      ],
      "execution_count": null,
      "outputs": [
        {
          "output_type": "display_data",
          "data": {
            "image/png": "[encoded data removed]",
            "text/plain": [
              "<Figure size 432x288 with 1 Axes>"
            ]
          },
          "metadata": {
            "tags": []
          }
        }
      ]
    },
    {
      "cell_type": "code",
      "metadata": {
        "colab": {
          "base_uri": "https://localhost:8080/"
        },
        "id": "dxglXQ14vKXj",
        "outputId": "312ff0ab-0bb0-46a2-d107-be07948b87bc"
      },
      "source": [
        "# Print the weights and biases of all the neurons in the Neural Network\n",
        "# Does not post the values of the output layer\n",
        "#Layer number = 0 is the input layer\n",
        "for layerNum, layer in enumerate(MR_model.layers):\n",
        "  print(\"Layer Number = \",layerNum)\n",
        "  print(\"Weight Values = \",layer.get_weights()[0])\n",
        "  print(\"Bias Values = \",layer.get_weights()[1])       "
      ],
      "execution_count": null,
      "outputs": [
        {
          "output_type": "stream",
          "text": [
            "Layer Number =  0\n",
            "Weight Values =  [[-0.24777375]\n",
            " [ 0.54570407]]\n",
            "Bias Values =  [0.01236731]\n"
          ],
          "name": "stdout"
        }
      ]
    },
    {
      "cell_type": "code",
      "metadata": {
        "id": "WAj4boLwvcdZ"
      },
      "source": [
        ""
      ],
      "execution_count": null,
      "outputs": []
    }
  ]
}